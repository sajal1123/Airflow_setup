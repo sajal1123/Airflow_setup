{
 "cells": [
  {
   "cell_type": "code",
   "execution_count": 23,
   "metadata": {},
   "outputs": [],
   "source": [
    "import requests\n",
    "\n",
    "def extract_data(**kwargs):\n",
    "    # Alpha Vantage API key (replace 'YOUR_API_KEY' with your actual key)\n",
    "    api_key = 'VME4WFAH35TA8DIZ'\n",
    "\n",
    "    # Define the stocks you're interested in\n",
    "    stocks = ['GOOGL', 'AAPL', 'NFLX', 'FB', 'MSFT', 'AMZN']\n",
    "\n",
    "    # Placeholder for the extracted data\n",
    "    extracted_data = {}\n",
    "\n",
    "    # Loop through each stock and make API requests\n",
    "    for stock_symbol in stocks:\n",
    "        # Alpha Vantage API endpoint for time series data\n",
    "        api_url = f'https://www.alphavantage.co/query?function=TIME_SERIES_INTRADAY&symbol={stock_symbol}&interval=5min&apikey={api_key}'\n",
    "\n",
    "        # Make the API request\n",
    "        response = requests.get(api_url)\n",
    "\n",
    "        # Check if the request was successful (status code 200)\n",
    "        if response.status_code == 200:\n",
    "            # Parse the JSON response\n",
    "            stock_data = response.json()\n",
    "\n",
    "            print(\"stock data = \", stock_data)\n",
    "\n",
    "            # Extract the relevant information (adjust this based on Alpha Vantage response structure)\n",
    "            time_series_data = stock_data.get('Time Series (5min)', {})\n",
    "            latest_data = list(time_series_data.values())\n",
    "\n",
    "            # Store the extracted data\n",
    "            extracted_data[stock_symbol] = latest_data\n",
    "        else:\n",
    "            print(f\"Failed to fetch data for {stock_symbol}. Status code: {response.status_code}\")\n",
    "\n",
    "    # You can do more with the extracted data, such as logging or saving it to XCom for downstream tasks\n",
    "    print(\"Extracted stock market data:\", extracted_data)\n",
    "    return extracted_data"
   ]
  },
  {
   "cell_type": "code",
   "execution_count": 24,
   "metadata": {},
   "outputs": [
    {
     "name": "stdout",
     "output_type": "stream",
     "text": [
      "stock data =  {'Information': 'Thank you for using Alpha Vantage! Our standard API rate limit is 25 requests per day. Please subscribe to any of the premium plans at https://www.alphavantage.co/premium/ to instantly remove all daily rate limits.'}\n",
      "stock data =  {'Information': 'Thank you for using Alpha Vantage! Our standard API rate limit is 25 requests per day. Please subscribe to any of the premium plans at https://www.alphavantage.co/premium/ to instantly remove all daily rate limits.'}\n",
      "stock data =  {'Information': 'Thank you for using Alpha Vantage! Our standard API rate limit is 25 requests per day. Please subscribe to any of the premium plans at https://www.alphavantage.co/premium/ to instantly remove all daily rate limits.'}\n",
      "stock data =  {'Information': 'Thank you for using Alpha Vantage! Our standard API rate limit is 25 requests per day. Please subscribe to any of the premium plans at https://www.alphavantage.co/premium/ to instantly remove all daily rate limits.'}\n",
      "stock data =  {'Information': 'Thank you for using Alpha Vantage! Our standard API rate limit is 25 requests per day. Please subscribe to any of the premium plans at https://www.alphavantage.co/premium/ to instantly remove all daily rate limits.'}\n",
      "stock data =  {'Information': 'Thank you for using Alpha Vantage! Our standard API rate limit is 25 requests per day. Please subscribe to any of the premium plans at https://www.alphavantage.co/premium/ to instantly remove all daily rate limits.'}\n",
      "Extracted stock market data: {'GOOGL': [], 'AAPL': [], 'NFLX': [], 'FB': [], 'MSFT': [], 'AMZN': []}\n"
     ]
    }
   ],
   "source": [
    "data = extract_data()"
   ]
  },
  {
   "cell_type": "code",
   "execution_count": 14,
   "metadata": {},
   "outputs": [
    {
     "data": {
      "text/plain": [
       "100"
      ]
     },
     "execution_count": 14,
     "metadata": {},
     "output_type": "execute_result"
    }
   ],
   "source": [
    "len(data['AAPL'])"
   ]
  },
  {
   "cell_type": "code",
   "execution_count": 29,
   "metadata": {},
   "outputs": [],
   "source": [
    "def clean_currency(currency):\n",
    "    cleaned_currency = ''.join(char.lower() for char in currency if char.isalpha())\n",
    "    return cleaned_currency"
   ]
  },
  {
   "cell_type": "code",
   "execution_count": 38,
   "metadata": {},
   "outputs": [],
   "source": [
    "def get_currency_exchange(base_currency, currency_list, date):\n",
    "    \n",
    "    base_currency = clean_currency(base_currency)\n",
    "    exchange_rates = {\"date\" : date, \"base_currency\": base_currency}\n",
    "\n",
    "    for currency in currency_list:\n",
    "        currency = clean_currency(currency)\n",
    "        api = f'https://cdn.jsdelivr.net/gh/fawazahmed0/currency-api@1/{date}/currencies/{base_currency}/{currency}.json'\n",
    "        response = requests.get(api)\n",
    "\n",
    "        if response.status_code == 200:\n",
    "            exchange_value = response.json()[currency]\n",
    "            exchange_rates[currency] = exchange_value\n",
    "        else:\n",
    "            print(f'Failed to fetch exchange rate for {currency}')\n",
    "    return exchange_rates"
   ]
  },
  {
   "cell_type": "code",
   "execution_count": 39,
   "metadata": {},
   "outputs": [],
   "source": [
    "eur = get_currency_exchange(\"eur\", [\"USD\", \"inr\", \"jpy\"], \"2023-03-04\")"
   ]
  },
  {
   "cell_type": "code",
   "execution_count": 40,
   "metadata": {},
   "outputs": [
    {
     "data": {
      "text/plain": [
       "{'date': '2023-03-04',\n",
       " 'base_currency': 'eur',\n",
       " 'usd': 1.065019,\n",
       " 'inr': 87.025629,\n",
       " 'jpy': 144.677543}"
      ]
     },
     "execution_count": 40,
     "metadata": {},
     "output_type": "execute_result"
    }
   ],
   "source": [
    "eur"
   ]
  },
  {
   "cell_type": "code",
   "execution_count": 9,
   "metadata": {},
   "outputs": [],
   "source": [
    "cc1 = 0.2 * (8.5/10)\n",
    "cc2 = 0.2 * (9.1/10)\n",
    "cc3 = 0.2 * (9/10)\n",
    "p = 0.1 * (10/10)\n",
    "f = 0.3 * (70/93)"
   ]
  },
  {
   "cell_type": "code",
   "execution_count": 10,
   "metadata": {},
   "outputs": [
    {
     "data": {
      "text/plain": [
       "0.8578064516129033"
      ]
     },
     "execution_count": 10,
     "metadata": {},
     "output_type": "execute_result"
    }
   ],
   "source": [
    "score = cc1 + cc2 + cc3 + p + f\n",
    "score"
   ]
  },
  {
   "cell_type": "code",
   "execution_count": 8,
   "metadata": {},
   "outputs": [
    {
     "data": {
      "text/plain": [
       "69.75"
      ]
     },
     "execution_count": 8,
     "metadata": {},
     "output_type": "execute_result"
    }
   ],
   "source": [
    ".75*93"
   ]
  },
  {
   "cell_type": "code",
   "execution_count": 23,
   "metadata": {},
   "outputs": [],
   "source": [
    "mid = 0.25 * (89/94)\n",
    "pos = 0.2 * (46/48)\n",
    "cp = 0.2 * (1)\n",
    "f = 0.35 * (90/107)"
   ]
  },
  {
   "cell_type": "code",
   "execution_count": 24,
   "metadata": {},
   "outputs": [
    {
     "data": {
      "text/plain": [
       "0.9227613176907271"
      ]
     },
     "execution_count": 24,
     "metadata": {},
     "output_type": "execute_result"
    }
   ],
   "source": [
    "fs = mid + pos + cp + f\n",
    "fs"
   ]
  },
  {
   "cell_type": "code",
   "execution_count": null,
   "metadata": {},
   "outputs": [],
   "source": []
  }
 ],
 "metadata": {
  "kernelspec": {
   "display_name": "base",
   "language": "python",
   "name": "python3"
  },
  "language_info": {
   "codemirror_mode": {
    "name": "ipython",
    "version": 3
   },
   "file_extension": ".py",
   "mimetype": "text/x-python",
   "name": "python",
   "nbconvert_exporter": "python",
   "pygments_lexer": "ipython3",
   "version": "3.9.13 (main, Aug 25 2022, 18:29:29) \n[Clang 12.0.0 ]"
  },
  "orig_nbformat": 4,
  "vscode": {
   "interpreter": {
    "hash": "b4351807a6c6bda5d21ae3993f780f83f680b298c5efdaa552017137dbdbbfe2"
   }
  }
 },
 "nbformat": 4,
 "nbformat_minor": 2
}
