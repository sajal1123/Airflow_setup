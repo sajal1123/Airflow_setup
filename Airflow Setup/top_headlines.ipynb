{
 "cells": [
  {
   "cell_type": "code",
   "execution_count": 1,
   "metadata": {},
   "outputs": [],
   "source": [
    "import requests\n",
    "from bs4 import BeautifulSoup\n"
   ]
  },
  {
   "cell_type": "code",
   "execution_count": 3,
   "metadata": {},
   "outputs": [],
   "source": [
    "import yaml\n",
    "\n",
    "with open('config/dag_config.yaml', 'r') as stream:\n",
    "    config = yaml.safe_load(stream)"
   ]
  },
  {
   "cell_type": "code",
   "execution_count": 4,
   "metadata": {},
   "outputs": [],
   "source": [
    "news_api = config['credentials']['news_api_key']\n",
    "base_url = config['news']['url']\n",
    "\n",
    "# from_date = config['news']['']\n",
    "country = config['news']['top_headlines']['country']\n",
    "query = config['news']['top_headlines']['query']"
   ]
  },
  {
   "cell_type": "code",
   "execution_count": 5,
   "metadata": {},
   "outputs": [],
   "source": [
    "def get_news_data(daily):\n",
    "    url = base_url + daily\n",
    "    q = query\n",
    "\n",
    "    params = {\n",
    "        # 'q': q,\n",
    "        'apiKey': news_api,\n",
    "        'country': country\n",
    "    }\n",
    "\n",
    "    response = requests.get(url, params=params)\n",
    "\n",
    "    if response.status_code == 200:\n",
    "        data = response.json()\n",
    "        return data\n",
    "    else:\n",
    "        print(f\"Error {response.status_code}: {response.text}\")\n",
    "        return None\n",
    "\n",
    "# news_data = get_news_data(daily=\"top-headlines\")"
   ]
  },
  {
   "cell_type": "code",
   "execution_count": 6,
   "metadata": {},
   "outputs": [],
   "source": [
    "nd = get_news_data(daily='top-headlines')"
   ]
  },
  {
   "cell_type": "code",
   "execution_count": 13,
   "metadata": {},
   "outputs": [
    {
     "data": {
      "text/plain": [
       "dict_keys(['source', 'author', 'title', 'description', 'url', 'urlToImage', 'publishedAt', 'content'])"
      ]
     },
     "execution_count": 13,
     "metadata": {},
     "output_type": "execute_result"
    }
   ],
   "source": [
    "nd['articles'][0].keys()"
   ]
  },
  {
   "cell_type": "code",
   "execution_count": null,
   "metadata": {},
   "outputs": [],
   "source": []
  },
  {
   "cell_type": "code",
   "execution_count": 21,
   "metadata": {},
   "outputs": [],
   "source": [
    "def scrape_text_from_url(url):\n",
    "    # Send a GET request to the URL\n",
    "    response = requests.get(url)\n",
    "\n",
    "    # Check if the request was successful (status code 200)\n",
    "    if response.status_code == 200:\n",
    "        # Parse the HTML content of the page\n",
    "        print(f\"len(response.text) = {len(response.text)}\")\n",
    "        soup = BeautifulSoup(response.text, 'html.parser')\n",
    "\n",
    "        # Extract all text from the parsed HTML and split it into lines\n",
    "        lines = soup.get_text().splitlines()\n",
    "\n",
    "        # Filter lines with more than the specified minimum number of characters\n",
    "        long_lines = [line.strip() for line in lines if len(line.strip()) >= 300]\n",
    "\n",
    "        # Join the filtered lines into a single string\n",
    "        result = '\\n'.join(long_lines)\n",
    "\n",
    "        return result\n",
    "    else:\n",
    "        print(f\"Failed to retrieve content. Status code: {response.status_code}\")\n",
    "        return None\n"
   ]
  },
  {
   "cell_type": "code",
   "execution_count": 24,
   "metadata": {},
   "outputs": [],
   "source": [
    "# news_data['articles']"
   ]
  },
  {
   "cell_type": "code",
   "execution_count": 25,
   "metadata": {},
   "outputs": [
    {
     "name": "stdout",
     "output_type": "stream",
     "text": [
      "Failed to retrieve content. Status code: 403\n",
      "Failed to retrieve content. Status code: 403\n",
      "len(response.text) = 72680\n",
      "len(response.text) = 528122\n",
      "len(response.text) = 178770\n",
      "len(response.text) = 2975173\n",
      "len(response.text) = 223023\n",
      "len(response.text) = 139082\n",
      "Failed to retrieve content. Status code: 401\n",
      "len(response.text) = 591625\n",
      "Failed to retrieve content. Status code: 401\n",
      "len(response.text) = 418387\n",
      "len(response.text) = 1271217\n",
      "len(response.text) = 582597\n",
      "len(response.text) = 511289\n",
      "len(response.text) = 564366\n",
      "len(response.text) = 109628\n",
      "len(response.text) = 881178\n",
      "len(response.text) = 246941\n",
      "len(response.text) = 1111511\n"
     ]
    }
   ],
   "source": [
    "scraped_articles = []\n",
    "\n",
    "news_data = get_news_data(daily=\"top-headlines\")['articles']\n",
    "for news in news_data:\n",
    "    article_url = news['url']\n",
    "    article_content = scrape_text_from_url(article_url)\n",
    "    scraped_articles.append(article_content)"
   ]
  },
  {
   "cell_type": "code",
   "execution_count": 29,
   "metadata": {},
   "outputs": [
    {
     "name": "stdout",
     "output_type": "stream",
     "text": [
      "5035\n",
      "777\n",
      "6352\n",
      "1442\n",
      "9382\n",
      "2506\n",
      "5052\n",
      "6085\n",
      "36018\n",
      "6197\n",
      "8149\n",
      "3695\n",
      "0\n",
      "5843\n",
      "6252\n",
      "7673\n"
     ]
    }
   ],
   "source": [
    "for i in scraped_articles:\n",
    "    if i is not None:\n",
    "        print(len(i))"
   ]
  },
  {
   "cell_type": "code",
   "execution_count": 31,
   "metadata": {},
   "outputs": [
    {
     "data": {
      "text/plain": [
       "'Mortgage rates fall below 7% for the first time in months with experts believing more declines to come        HOME    MAIL    NEWS    FINANCE    SPORTS    ENTERTAINMENT    LIFE    SEARCH    SHOPPING    YAHOO PLUS    MORE...                  Yahoo Finance      Sign in     Mail  Sign in to view your mail     Finance     Watchlists     My Portfolio    Markets    YF Chartbook Calendars Trending Tickers Stocks: Most Actives Stocks: Gainers Stocks: Losers Top ETFs Futures World Indices Currencies Top Mutual Funds Options: Highest Open Interest Options: Highest Implied Volatility US Treasury Bonds Rates Currency Converter    News    Latest News From the Newsroom Stock Market News Earnings Politics Economic News Morning Brief Personal Finance News Crypto News Bidenomics Report Card    Videos    Yahoo Finance Invest Yahoo Finance Live ETF Report Good Buy or Goodbye FA Corner Options Pit     Yahoo Finance Plus    Dashboard Research Reports Investment Ideas Community Insights Webinars Blog    Screeners    Saved Screeners Equity Screener Mutual Fund Screener ETF Screener Futures Screener Index Screener Analyst Rating Screener   Technical Events Screener   Smart Money Screener   Top Holdings Screener      Personal Finance    CD rates High-yield savings accounts Money market accounts Checking accounts Online checking accounts Personal loans Car insurance Student loans Banking Taxes Rates Best rewards credit cards Best cash back credit cards Best credit card interest rates Best travel credit cards Best balance transfer credit cards Best business credit cards Home Buying     Crypto    Sectors    Basic Materials Communication Services Consumer Cyclical Consumer Defensive Energy Financial Services Healthcare Industrials Real Estate Technology Utilities     Contact Us    …   AdvertisementU.S. markets open in 51 minutesS&P Futures4,731.50+9.75 (+0.21%)\\xa0Dow Futures37,353.00+88.00 (+0.24%)\\xa0Nasdaq Futures16,595.25+53.75 (+0.32%)\\xa0Russell 2000 Futures2,029.90+7.40 (+0.37%)\\xa0Crude Oil72.14+0.56 (+0.78%)\\xa0Gold2,055.70+10.80 (+0.53%)\\xa0Silver24.43+0.04 (+0.18%)\\xa0EUR/USD1.0917-0.0080 (-0.73%)\\xa010-Yr Bond3.9220-0.0080 (-0.20%)\\xa0Vix12.11-0.37 (-2.96%)\\xa0GBP/USD1.2721-0.0044 (-0.34%)\\xa0USD/JPY142.3550+0.4660 (+0.33%)\\xa0Bitcoin USD42,371.46+85.17 (+0.20%)\\xa0CMC Crypto 200874.03-7.46 (-0.85%)\\xa0FTSE 1007,592.80-56.18 (-0.73%)\\xa0Nikkei 22532,970.55+284.30 (+0.87%)\\xa0Yahoo FinanceMortgage rates fall below 7% for the first time in months with experts believing more declines to comeThe average rate on the 30-year mortgage drops to 6.95%, the lowest since AugustRead full article1.2kRebecca Chen·ReporterDecember 14, 2023 at 9:00 AM·4 min readMortgage rates hit the 6% range for the first time since August, and many housing economists believe that trend could continue.The average rate on the 30-year mortgage dropped to 6.95% from 7.03% the week before, according to Freddie Mac on Thursday. Rates fell for the seventh consecutive week and hit the lowest level since early August when rates were 6.96%.Thanks to bullish overall inflation data, housing experts are predicting near-future rate cuts that will bring mortgage rates even closer to 6%, helping the slow and expensive US housing market that has sidelined many homeowners and prospective buyers over the last 12 months.\"Given inflation continues to decelerate and the Federal Reserve Board’s current expectations that they will lower the federal funds target rate next year, we likely will see a gradual thawing of the housing market in the new year,\" Sam Khater, Freddie Mac’s chief economist said in the press release.Read more: Mortgage rates falling: Will 2024 be a good time to buy a house?CPI data suggests future rate cutsThe latest Consumer Price Index (CPI) data showed that inflation has moderated to 3.1% year-over-year in November, a welcoming sign for the housing market as the Federal Reserve closes in on its target 2% inflation rate.Since financing rates soared last summer, homeowners and sellers have been stuck in a market gridlock where owners are not selling in order to keep their low interest rates, and the majority of buyers can\\'t afford the extra financing cost, resulting in the lowest pending home transaction volume in two decades.\"After picking up somewhat over the summer, activity in the housing sector has flattened out and remains well below the levels of a year ago, largely reflecting higher mortgage rates,\" Fed Chair Jerome Powell said in Wednesday\\'s FOMC meeting.But that could soon change as housing experts forecasted rate cuts in 2024. Lawrence Yun, chief economist at the National Association of Realtors (NAR), believes the Fed could start chipping away at rates as early as the spring and could reduce as much as 100 basis points by the end of next year, which would bring average mortgage rates down to about 6.3%.Story continues\"The job market is beginning to soften. With each passing month, jobs are being added but are becoming lighter and lighter,\" Yun said during NAR\\'s 2024 Real Estate Forecast Summit on Tuesday. \"The Fed certainly doesn\\'t want to see the number turn negative.\"Read more: How to buy a house in 2024Federal Reserve Chair Jerome Powell speaks during a news conference about monetary policy on Dec. 13 in Washington, D.C. (AP Photo/Alex Brandon) (ASSOCIATED PRESS)Another expert thinks rates below the 6% range would meaningfully turn the market around, bringing back inventory and thus lowering home prices on top of reducing borrowing costs in 2024.\"I think we\\'ll see a bigger uptick in housing demand if mortgage rates were to fall into the 5s because that will reduce the strength of the lock-in effect for a greater share of homeowners – more than 90 percent of whom have an outstanding mortgage rate that is under 6 percent,\" Danielle Hale, chief economist at Realtor.com, told Yahoo Finance.The central bank signaled lower rates to come during Tuesday\\'s FOMC meeting. Powell said while the committee is proceeding carefully, rates are projected to drop to 4.6% by the end of 2024 if the economy evolves as projected. Another recent forecast also suggested that the Fed could cut interest rates by 0.50% in the coming year, thanks to falling inflation and a slowing labor market.But the Fed is keeping rates steady at 5.25%-5.50% for now, reaffirming its commitment to tame inflation.Read more: What the Fed rate-hike pause means for mortgage rates and loansShelter inflation remains stickyWhile overall inflation decelerated, the housing component of the Consumer Price Index remained elevated. Housing prices and rent climbed 0.4% monthly and 6.5% annually in November, according to the Bureau of Labor Statistics.Shelter inflation comprises around one-third of overall CPI and accounted for nearly 70% of the total increase in all items except food and energy in November, BLS reported. Two major components of shelter inflation — owner\\'s equivalent rent, or OER, and rent — recorded a 6.7% and 6.9% annual increases in November, respectively.However, Yun refuted that, noting private sector rental data are only showing a 1% to 2% increase in rents, although the government data shows 6.9%. He said there is an oversupply of apartments in various regions, even in high-demand places like Austin, Texas, and Charlotte, N.C., pushing down rent growth.\"If we were to use the private sector apartment data, we would already be under 2% inflation, and it would be time for interest rate cuts,\" Yun said.Read more: 5 strategies to get lower mortgage rates in 2024Rebecca Chen is a reporter for Yahoo Finance and previously worked as an investment tax certified public accountant (CPA).Click here for the latest personal finance news to help you with investing, paying off debt, buying a home, retirement, and moreRead the latest financial and business news from Yahoo FinanceTRENDING 1. UPDATE 1-Russian rouble eases after cenbank hikes rates to 16% 2. EXPLAINER-Prince Harry\\'s phone-hacking lawsuit against UK\\'s Mirror Group 3. REFILE-GLOBAL MARKETS-Shares and bonds climb as Fed boost keeps firing 4. AI: a crazy year in review 5. UPDATE 1-UK firm Pearson\\'s top investor calls for US listing switch - Bloomberg NewsAdvertisement'"
      ]
     },
     "execution_count": 31,
     "metadata": {},
     "output_type": "execute_result"
    }
   ],
   "source": [
    "scraped_articles[14]"
   ]
  }
 ],
 "metadata": {
  "kernelspec": {
   "display_name": "base",
   "language": "python",
   "name": "python3"
  },
  "language_info": {
   "codemirror_mode": {
    "name": "ipython",
    "version": 3
   },
   "file_extension": ".py",
   "mimetype": "text/x-python",
   "name": "python",
   "nbconvert_exporter": "python",
   "pygments_lexer": "ipython3",
   "version": "3.9.13 (main, Aug 25 2022, 18:29:29) \n[Clang 12.0.0 ]"
  },
  "orig_nbformat": 4,
  "vscode": {
   "interpreter": {
    "hash": "b4351807a6c6bda5d21ae3993f780f83f680b298c5efdaa552017137dbdbbfe2"
   }
  }
 },
 "nbformat": 4,
 "nbformat_minor": 2
}
